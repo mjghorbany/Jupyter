{
 "cells": [
  {
   "cell_type": "markdown",
   "metadata": {},
   "source": [
    "# Load data from Excel file"
   ]
  },
  {
   "cell_type": "code",
   "execution_count": 1,
   "metadata": {
    "collapsed": true
   },
   "outputs": [],
   "source": [
    "import pandas\n",
    "from sklearn.feature_extraction.text import CountVectorizer\n",
    "from sklearn import svm\n",
    "from sklearn.naive_bayes import GaussianNB"
   ]
  },
  {
   "cell_type": "code",
   "execution_count": 2,
   "metadata": {
    "collapsed": false
   },
   "outputs": [],
   "source": [
    "df = pandas.read_excel('example_labels.xlsx')"
   ]
  },
  {
   "cell_type": "code",
   "execution_count": 3,
   "metadata": {
    "collapsed": false
   },
   "outputs": [],
   "source": [
    "text_list = df['text'].tolist()\n",
    "labels_list = df['class_label'].tolist()"
   ]
  },
  {
   "cell_type": "code",
   "execution_count": 4,
   "metadata": {
    "collapsed": false
   },
   "outputs": [
    {
     "name": "stdout",
     "output_type": "stream",
     "text": [
      "{'ris ': 1167, ' r': 256, 'ipisc': 777, 'ariat': 371, 'exerci': 669, ' sint ': 272, ' an': 24, ' pr': 242, ' ullamco ': 293, ' in ': 145, 'onsequ': 1039, ' cons': 47, 'serunt ': 1215, 'ce': 420, 'sequat ': 1210, 'od': 988, 'ps': 1104, 'mpo': 915, 'excep': 660, 'eiusmod': 573, 'end': 586, 'll': 849, 'ipi': 775, 'cepteur ': 426, 'upi': 1314, 'ali': 348, 'pisci': 1081, 'adipi': 332, 'nsectetu': 963, ' aliq': 13, 'up': 1313, 'sunt': 1240, ' aliqua ': 16, 'rem': 1150, 'p': 1061, 'incididunt': 762, 'olor': 1011, 'in ': 754, 'vol': 1351, 'irure': 796, ' amet ': 23, 'upidatat ': 1320, ' l': 163, 'po': 1085, ' fug': 136, 'x': 1359, 'vo': 1350, 'ut ': 1336, 'tru': 1272, 'den': 500, 'odo': 990, 'olore ': 1014, 'uptate ': 1325, 'rure': 1186, ' sit ': 274, 'upt': 1321, 'an': 364, 'des': 507, 'ept': 609, ' adipi': 6, ' ame': 21, 'olupt': 1017, 'x ': 1360, 'eiusm': 571, 'ccaeca': 417, 'minim': 897, 'at ': 376, ' vol': 308, 'quis ': 1128, ' dolo': 81, 'modo': 907, 'nu': 973, 'pariatu': 1069, ' consec': 49, 'da': 494, 'c': 404, 'dunt': 541, 'liq': 840, 'velit': 1343, ' comm': 41, 't ': 1243, ' reprehen': 263, 'mi': 894, ' cupidat': 66, 'ici': 722, 'nc': 922, 'qui': 1123, 'prehenderi': 1096, ' exercit': 131, 'lo': 862, 'citat': 447, 'tetur': 1262, 'upida': 1316, ' esse ': 111, ' reprehend': 264, ' v': 296, ' m': 181, 'me': 891, 'cia': 428, ' excepteur': 126, ' consecte': 51, ' sed ': 268, 'pro': 1097, 'tate': 1247, 'eli': 576, ' nostrud': 210, ' aliquip ': 19, ' qui': 252, 'ctetu': 476, ' magna ': 186, 'nsequat ': 970, 'aecat ': 342, 'oris ': 1051, 'llu': 859, 'mp': 914, ' exercitat': 133, 'gia': 695, ' nostru': 209, 'ure ': 1329, 'xe': 1369, 'dent': 501, 'iqu': 787, ' occa': 220, ' ea': 91, 'iatur': 719, ' culpa': 60, 'xcept': 1364, ' adi': 4, 'cup': 484, 'luptate ': 880, 'nsec': 959, 'ca': 405, 'ullamco': 1303, 'int ': 769, 'mco ': 890, 'lorem ': 868, 'piscing': 1083, ' com': 40, 'riatu': 1163, 'consec': 463, 'oident ': 1004, ' incidid': 150, 'cat': 411, 'oluptate ': 1021, 'tion': 1269, 'proident': 1102, 'ius': 816, 'abor': 319, ' ma': 182, 'iquip': 791, ' ali': 12, 'ercit': 622, 'nia': 940, 'rcitatio': 1137, ' amet': 22, 'i ': 711, 'didunt ': 519, 'quip': 1125, 'deseru': 510, ' dolor': 82, 'ons': 1030, ' cu': 57, 'sectetur': 1202, ' la': 164, 'magn': 885, 'trud': 1273, 'gna': 699, 'iden': 733, 'cididun': 434, 'piscing ': 1084, 'henderit ': 709, 'ffic': 677, 'lamco ': 838, 'rehen': 1144, ' cillu': 36, ' exerci': 130, 'int': 768, 'fic': 682, 'iat ': 717, 'incidi': 758, 'sit': 1221, 'm': 881, 'roident ': 1176, 'commodo': 458, ' null': 214, 'onsectetu': 1036, ' temp': 282, 'iq': 786, 'adipiscing': 337, 'ollit': 1008, 'st ': 1231, ' mollit ': 197, 'b': 393, 'au': 389, ' molli': 195, 'unt': 1311, 'nisi ': 947, 'adipiscin': 336, 'xer': 1370, 'nul': 974, 'rcitat': 1135, ' cupid': 64, 'inci': 756, 'ehende': 563, ' enim ': 107, 'llit': 857, 'ure': 1328, 'eu': 652, 'dol': 530, 'mmod': 901, ' cil': 34, 'cin': 442, 'am ': 357, 'ender': 588, 'equ': 615, 'llit ': 858, ' lore': 178, 'rcitation': 1138, ' mi': 187, 'teu': 1264, ' nostr': 208, 'ididunt ': 741, 'gn': 698, ' conse': 48, ' voluptate': 314, ' qui ': 253, 'ehen': 561, 'giat ': 697, 'oide': 1001, 'eprehen': 605, ' labore ': 169, 'nderit ': 936, 'lore ': 866, 'runt ': 1184, 'ugia': 1288, 'fficia': 679, 'nsequ': 967, 'ncididunt ': 930, 'ser': 1211, 'officia': 997, 'cu': 479, ' fugia': 138, 'agna ': 346, 'illu': 748, 'iusmod ': 820, ' consequ': 54, 'uat ': 1283, 'rcit': 1133, 'tetur ': 1263, 'isi': 805, ' id': 142, ' do ': 79, ' n': 198, 'do ': 529, ' tempor ': 285, ' laboru': 173, 'eni': 592, 'ation ': 385, 'nostr': 953, 'epte': 610, 'fici': 683, 'epreh': 603, 'liqui': 844, 'or': 1043, 'comm': 455, 'nostrud ': 956, 'um ': 1309, 'sectetur ': 1203, 've': 1340, 'sed ': 1205, 'pariatur': 1070, 'iscing ': 804, 'inim': 766, 'cupidata': 489, 'repre': 1154, 'ini': 765, 'ommod': 1025, ' cul': 58, 'officia ': 998, 'datat': 497, 'dipisc': 523, ' of': 226, 'onsequat': 1041, ' dol': 80, 'pidat': 1075, ' deseru': 74, 'incidid': 759, 'ncididunt': 929, 'didu': 516, 'llamco': 854, ' occaecat ': 225, ' adip': 5, 'o': 978, 'mollit ': 913, 'ostru': 1058, 'ipiscing ': 781, ' nisi': 201, ' ulla': 289, 'ic': 721, 'secte': 1199, ' exe': 127, 'aliq': 349, 'ea': 545, 'tatio': 1250, ' mini': 189, 'dipi': 521, 'eiusmod ': 574, ' aliqu': 14, 'ecte': 552, 'uip': 1293, ' rep': 258, 'derit ': 506, ' mo': 192, 'veniam': 1348, 'idun': 743, 'ffi': 676, 'incid': 757, 'ficia ': 685, 'reprehe': 1156, 'ectet': 553, 'q': 1117, 'ollit ': 1009, 'boris': 399, 'deser': 509, 'aria': 370, 'iatu': 718, 'ccae': 415, 're ': 1141, 'com': 454, 'pid': 1073, ' aut': 29, ' ex': 118, 'epteu': 611, 'reh': 1142, 'veni': 1346, 'itati': 811, ' occaecat': 224, 'culpa ': 483, ' eiu': 94, 'i': 710, 'te ': 1254, ' minim ': 191, 'fugia': 689, ' exercita': 132, 'boris ': 400, 'emp': 581, 'ariatur': 373, 'rc': 1131, 'rit ': 1169, 'itat': 810, 's': 1188, 'roi': 1171, 'oll': 1006, 'usm': 1331, ' exer': 128, 'cidi': 431, 'pte': 1113, 'ui': 1291, ' sit': 273, 'volupta': 1355, ' des': 71, ' commod': 43, 'is': 798, 'cepte': 423, ' laboris': 171, 'abo': 318, ' pariat': 238, 'repreh': 1155, 'commo': 456, 'scin': 1192, ' elit': 102, ' sin': 270, 'bore': 396, 'veli': 1342, 'orum': 1053, 'upidata': 1318, 'dip': 520, ' quis ': 255, 'ccaecat': 418, 'abori': 322, 'ffici': 678, 'pr': 1088, ' eu': 116, 'nd': 931, 'met': 892, 'ariatur ': 374, ' veniam ': 306, 'iusmo': 818, 'nsectetur ': 965, ' e': 90, ' du': 86, 'ff': 675, 'ir': 793, 'iqui': 790, 'dipiscin': 525, 'cididunt': 435, ' par': 235, 'ug': 1286, ' al': 11, 'etu': 649, 'abore ': 321, 'ad ': 329, 'isc': 800, ' voluptat': 313, 'erunt ': 634, 'caec': 407, 'e': 543, 'xercitatio': 1377, 'pariat': 1068, ' eiusmod': 98, 'atu': 386, ' mag': 183, 'paria': 1067, ' non': 204, 'cill': 438, ' volupta': 312, 'nci': 923, ' incid': 148, 'run': 1182, 'deserunt': 512, 'id': 725, 'epteur': 612, 'es': 635, 'occaecat ': 987, ' cupidata': 67, ' el': 100, 'roiden': 1174, 'lor ': 864, 'modo ': 908, 'ecat': 549, ' sunt ': 278, ' excepte': 124, 'd ': 493, 'orum ': 1054, ' est ': 113, 'lamc': 836, 'boru': 401, ' adipisci': 9, 'sint ': 1220, ' dolore ': 85, 'ute': 1337, 'xercit': 1373, ' consequa': 55, ' exerc': 129, ' nisi ': 202, ' adipisc': 8, 'liquip': 845, 'sun': 1239, ' aliquip': 18, ' eiusm': 96, 'r ': 1130, 'nsecte': 961, 'ida': 727, 'omm': 1023, ' repre': 260, 'lorem': 867, 'psum': 1106, 'tat ': 1246, 'sint': 1219, ' ul': 287, 'dent ': 502, 'anim': 366, 'u': 1278, ' offici': 230, ' esse': 110, 'ullamc': 1302, 'e ': 544, 'n': 918, ' incidi': 149, 'ctet': 475, 'du': 536, 'ommo': 1024, 'oiden': 1002, 'ccaec': 416, ' vel': 298, 'ng ': 938, 'upidat': 1317, 'lit ': 848, 'est': 645, 'scing ': 1194, 'tem': 1255, 'mco': 889, 'equat ': 618, 'lum': 873, 'olup': 1016, 'eprehend': 606, 'occa': 982, 'enim': 596, 'commod': 457, 'ute ': 1338, 'amet': 362, 'ris': 1166, 'os': 1055, ' veni': 303, 'sse ': 1229, 'ation': 384, 'ectetu': 554, 'ullamco ': 1304, ' re': 257, 'onsequa': 1040, ' pro': 243, 'idi': 736, 'eur': 654, ' cupidatat': 68, 'rcitati': 1136, 'ud ': 1285, 'ipsum': 784, ' anim ': 27, 'lit': 847, ' pariatu': 239, 'rehende': 1146, 'proide': 1100, 'ess': 642, ' dolor ': 83, 'non ': 950, ' exce': 121, ' ut': 294, 'magna ': 887, 'ven': 1345, 'iusmod': 819, 'nsectetur': 964, ' dese': 72, 'nderi': 934, 'occaec': 984, ' cill': 35, 'aecat': 341, ' repr': 259, ' culp': 59, 'quip ': 1126, 'occ': 981, ' su': 275, ' incididu': 151, 'lli': 856, 'orem ': 1048, ' cup': 62, 'veniam ': 1349, ' quis': 254, 'citation': 450, 'ostrud ': 1060, ' eni': 105, 'ct': 473, 'enderit ': 591, 'erunt': 633, 'et': 647, 'idata': 729, ' cupi': 63, 'pre': 1089, ' lorem ': 180, 'a': 315, 'cillu': 439, ' ani': 25, 'ia ': 713, 'lu': 872, 'sec': 1197, 'consequat': 471, ' ': 0, ' irure ': 162, ' deser': 73, 'rure ': 1187, 'sequ': 1207, 'ugi': 1287, 'oluptat': 1019, 'cupidatat': 490, 'uis ': 1296, 'aec': 339, 'amco': 359, 'un': 1310, 'offi': 994, 'cat ': 412, 'iam': 714, ' officia': 231, ' f': 134, 'us': 1330, 'non': 949, 'enderit': 590, ' lor': 177, 'ehenderit': 566, ' commodo': 44, ' excepteu': 125, ' proide': 246, 'runt': 1183, 'oid': 1000, 'niam ': 942, 'pteu': 1114, 'atat': 378, 'ed': 557, ' eu ': 117, 'nsequat': 969, 'onsect': 1033, ' est': 112, 'serun': 1213, 'inc': 755, 'smod ': 1226, 'iam ': 715, 'ost': 1056, 'prehe': 1091, ' nostrud ': 211, 'ptat': 1110, 'irur': 795, 'lamco': 837, ' d': 69, 'llam': 852, 'adipisci': 335, 'tur': 1276, 'ipsu': 783, 'lup': 875, ' ad': 2, 'ptate ': 1112, 'eser': 637, 'onsequat ': 1042, 'nulla': 976, 'ehe': 560, 'exce': 659, 'llum ': 861, 'tat': 1245, 'onsectet': 1035, 'pteur': 1115, 'ulp': 1305, 'nsect': 960, ' pa': 234, 'dipiscing ': 527, 'illum': 749, 'uptate': 1324, ' proident': 248, 'f': 674, 'it': 807, 'upidatat': 1319, 'agna': 345, 'sectet': 1200, 'dipiscing': 526, 'ese': 636, ' labo': 166, 'tation': 1251, ' laborum ': 175, 'epre': 602, 'ullam': 1301, 'ate ': 381, 'usmo': 1332, 'ncididu': 927, 'ip': 773, 'do': 528, ' magn': 184, 'aboris': 323, 'on': 1028, 'rum': 1180, 'qua': 1119, 'ol': 1005, 'agn': 344, ' nu': 212, 'ent ': 599, 'strud': 1234, 'ut': 1335, 'cep': 421, 'xcep': 1363, 'ru': 1177, 'g': 692, ' tem': 281, ' offic': 229, 'lab': 824, ' lab': 165, ' s': 265, ' fu': 135, 'laborum': 833, 'odo ': 991, 'pisc': 1080, 't': 1242, ' fugiat': 139, 'consequa': 470, ' laborum': 174, 'cing': 443, 'en': 585, 'labori': 829, ' eiusmo': 97, 'mm': 899, 'strud ': 1235, 'smod': 1225, 'eh': 559, 'xcepteur ': 1368, 'ata': 377, 'luptat': 878, 'elit ': 578, 'ita': 809, 'fugi': 688, 'unt ': 1312, 'olli': 1007, 'olo': 1010, ' ullam': 290, 'proid': 1099, 'incididun': 761, 'oluptate': 1020, ' aute ': 31, 'fugiat ': 691, ' fugiat ': 140, 'n ': 919, 'cit': 445, 'ui ': 1292, 'ehenderi': 565, ' duis ': 89, 'mini': 896, 'cepteu': 424, 'erit ': 630, ' ipsu': 155, 'ercitati': 625, 'aliqua': 351, 'tur ': 1277, 'inim ': 767, 'pt': 1108, ' et': 114, 'rum ': 1181, ' sun': 276, ' volu': 309, 'cul': 480, 'sed': 1204, 'lore': 865, 'itation': 813, 'or ': 1044, 'nisi': 946, 'aliqu': 350, 'roident': 1175, 'pis': 1079, ' nis': 200, ' u': 286, 'lam': 835, 'cillum ': 441, 'co': 452, 'ati': 382, ' dui': 87, ' t': 279, 'nostrud': 955, 'o ': 979, 'rehenderi': 1148, ' min': 188, 'bore ': 397, ' pari': 236, ' lorem': 179, ' p': 233, 'didun': 517, ' no': 203, 'qu': 1118, 'enia': 593, 'olupta': 1018, 'ab': 317, 'gi': 694, 'ipiscing': 780, 'rehend': 1145, ' nulla ': 216, 'lupt': 876, 'il': 746, 'ar': 368, ' veniam': 305, 'citation ': 451, 'am': 356, 'lla ': 851, 'l': 821, 'deserunt ': 513, 'mpor': 916, ' inci': 147, ' offi': 228, 'adipis': 333, 'se ': 1196, ' moll': 194, 'proiden': 1101, 'ipsum ': 785, 'caeca': 408, 'of': 992, 'idatat ': 731, 'aliquip ': 355, ' sint': 271, 'est ': 646, 'llamco ': 855, 'om': 1022, 'llum': 860, 'idat': 728, 'idunt ': 745, 'amc': 358, 'cepteur': 425, ' occae': 221, ' venia': 304, 'epr': 601, 'consectetu': 467, 'iatur ': 720, 'seq': 1206, 'hen': 703, 'aute ': 392, 'rehender': 1147, 'cc': 413, 'didunt': 518, 'quat': 1121, ' dolore': 84, 'fug': 687, ' adipis': 7, 'ae': 338, 'sequat': 1209, 'str': 1232, 'labor': 826, 'piscin': 1082, 'lla': 850, 'labo': 825, 'sequa': 1208, 'borum ': 403, ' qu': 251, 'laborum ': 834, 'fficia ': 680, 'eniam': 594, 'u ': 1279, ' deserun': 75, 'ulpa ': 1307, 'mag': 884, 'roide': 1173, 'im': 751, 'por ': 1087, 'citati': 448, 'nulla ': 977, 'iqua': 788, 'ex': 656, ' velit ': 301, ' culpa ': 61, 'xcepteur': 1367, 'iusm': 817, 'ss': 1227, 'nse': 958, 'occae': 983, ' es': 108, 'bori': 398, 'sci': 1191, 'consectet': 466, ' o': 217, 'minim ': 898, 'nsectet': 962, 'dipisci': 524, 'na': 920, 'ua ': 1281, 'esse': 643, 'exercitati': 673, 'ec': 547, ' minim': 190, ' de': 70, ' ven': 302, 'pteur ': 1116, 'nt': 971, 'ani': 365, ' con': 46, 'rci': 1132, 'teur ': 1266, 'atur ': 388, 'idu': 742, 'abore': 320, 'ma': 883, 'elit': 577, ' proi': 244, 'moll': 910, 'eserunt ': 641, 'irure ': 797, 'preh': 1090, 'olore': 1013, 'onsectetur': 1037, 'ed ': 558, ' ve': 297, ' conseq': 53, 'iat': 716, ' enim': 106, 'exer': 667, 'datat ': 498, 'nder': 933, ' ir': 158, 'enderi': 589, 'erit': 629, ' ea ': 92, ' ei': 93, 'erun': 632, 'uis': 1295, ' ullamco': 292, 'iscin': 802, 'ommodo ': 1027, 'mol': 909, 'deserun': 511, 'pida': 1074, 'tation ': 1252, 'exc': 658, ' nulla': 215, 'dolore': 534, 'excepteur ': 665, 'tu': 1275, 'ria': 1161, 'su': 1236, 'sm': 1223, 'erci': 621, 'quis': 1127, 'ostrud': 1059, ' cillum ': 38, 'ti': 1267, ' reprehe': 262, ' pariatur ': 241, 'um': 1308, 'ercitat': 624, 'sum ': 1238, ' consectet': 52, 'nim': 943, ' iru': 159, 'ori': 1049, 'aborum ': 327, 'lpa': 870, ' ull': 288, 'venia': 1347, ' lo': 176, 'rem ': 1151, 'rcita': 1134, ' ipsum ': 157, 'rud': 1178, 'er': 619, 'ri': 1160, 'sect': 1198, 'min': 895, 'ion': 771, 'ill': 747, 'seru': 1212, 'tempo': 1257, 'liqua ': 843, 'ia': 712, 'giat': 696, 'itation ': 814, 'aborum': 326, ' excep': 122, 'cupida': 487, ' anim': 26, 'it ': 808, 'adi': 330, ' commodo ': 45, 'li': 839, 'uat': 1282, 'null': 975, 'mmodo ': 903, ' proident ': 249, 'aut': 390, 'olor ': 1012, 'ehend': 562, 'liquip ': 846, ' ni': 199, 'empo': 582, 'icia': 723, 'qui ': 1124, 'ion ': 772, 'exercit': 670, 'ul': 1297, 'ep': 600, 'ro': 1170, 'qua ': 1120, 'ariatu': 372, 'ncidid': 926, 'bo': 394, 'ccaecat ': 419, 's ': 1189, 'eur ': 655, 'aboris ': 324, 'aliquip': 354, ' in': 144, 'usmod ': 1334, 'aeca': 340, ' te': 280, 'ing ': 764, 'hend': 704, 'labore': 827, ' occaeca': 223, 'liqua': 842, 'eca': 548, 'ur': 1326, 'ea ': 546, ' laboris ': 172, 'commodo ': 459, 'ect': 551, ' aute': 30, 'data': 496, ' nost': 207, 'nde': 932, 'pidatat ': 1078, 'riatur ': 1165, 'ehenderit ': 567, 'ng': 937, 'dipis': 522, ' commo': 42, 'v': 1339, ' cillum': 37, ' do': 78, 'derit': 505, ' se': 266, 'exercitat': 672, 'xce': 1362, 'cca': 414, 're': 1140, 'empor': 583, ' off': 227, 'ta': 1244, 'oident': 1003, 'dat': 495, 'riat': 1162, 'ci': 427, 'smo': 1224, 'uip ': 1294, 'roid': 1172, 'usmod': 1333, 'iu': 815, 'ate': 380, ' ullamc': 291, 'volu': 1352, 'quat ': 1122, ' non ': 205, 'in': 753, 'ident ': 735, ' eiusmod ': 99, ' adipiscin': 10, 'ididunt': 740, ' c': 32, 'id ': 726, 'reprehen': 1157, ' exc': 120, 'henderi': 707, 'od ': 989, ' ad ': 3, 'con': 460, 'ncididun': 928, 'he': 702, 'occaeca': 985, 'cae': 406, 'cons': 461, 'adip': 331, 'riatur': 1164, 'vel': 1341, 'm ': 882, 'eri': 628, 'na ': 921, 'tetu': 1261, 'sse': 1228, 'ore ': 1046, 'reprehend': 1158, 'ipisci': 778, 'cept': 422, 'ipis': 776, 'eprehe': 604, 'ni': 939, ' i': 141, 'etur ': 651, 'nost': 952, 'proi': 1098, 'eq': 614, ' ut ': 295, ' pariatur': 240, 'rehe': 1143, ' eli': 101, 'hende': 705, 'de': 499, 'excepteu': 663, 'sunt ': 1241, 'cupidatat ': 491, 'pidatat': 1077, 'lupta': 877, 'sum': 1237, 'lum ': 874, 'r': 1129, 'st': 1230, ' proiden': 247, 'eiu': 569, 'ectetur': 555, 'uptat': 1323, ' en': 104, 'laboris ': 831, 'ame': 361, 'esse ': 644, 'luptate': 879, 'icia ': 724, 'rcitation ': 1139, ' magna': 185, ' inc': 146, 'pidata': 1076, 'prehende': 1094, 'culp': 481, 'ercitation': 627, 'im ': 752, 'labore ': 828, 'on ': 1029, 'mod': 905, 'idunt': 744, ' except': 123, 'dese': 508, 'nostru': 954, 'dolor': 532, 'onsec': 1032, 'reprehende': 1159, 'ei': 568, 'met ': 893, 'ercitatio': 626, 'ari': 369, 'mmo': 900, 'h': 701, 'nis': 945, 'a ': 316, ' deserunt ': 77, 'off': 993, 'conse': 462, 'adipisc': 334, ' repreh': 261, 'temp': 1256, 'eseru': 638, 'ididu': 738, 'onse': 1031, 'citatio': 449, 'exercita': 671, 'gna ': 700, 'eserunt': 640, 'xcepteu': 1366, ' mollit': 196, 'upid': 1315, 'tempor ': 1259, ' labore': 168, 'xerci': 1372, 'eniam ': 595, 'prehender': 1095, ' occaec': 222, 'tate ': 1248, 'llamc': 853, ' ess': 109, 'teur': 1265, 'al': 347, 'xc': 1361, 'eius': 570, ' aliqui': 17, ' velit': 300, 'cupidat': 488, 'incididu': 760, 'idatat': 730, 'prehend': 1093, 'ercita': 623, ' ips': 154, 'rep': 1152, 'laboris': 830, 'excepte': 662, 'ide': 732, 'la': 822, 'magna': 886, 'cte': 474, 'velit ': 1344, 'atat ': 379, 'cidid': 432, ' si': 269, 'co ': 453, 'eprehende': 607, 'ecat ': 550, 'iscing': 803, 'volupt': 1354, 'dunt ': 542, 'psum ': 1107, 'voluptate ': 1358, 'ad': 328, 'isci': 801, 'dolor ': 533, 'exe': 666, 'itatio': 812, 'tempor': 1258, 'duis ': 539, ' ci': 33, 'ulpa': 1306, 'ur ': 1327, 'etur': 650, 'ag': 343, 'eprehender': 608, 'cupid': 486, ' au': 28, 'is ': 799, 'ulla ': 1300, ' ip': 153, 'consect': 464, ' elit ': 103, 'laboru': 832, ' mol': 193, 'epteur ': 613, 'oi': 999, 'cita': 446, 'ud': 1284, 'nim ': 944, 'cia ': 429, 'dui': 537, 'par': 1065, 'isi ': 806, 'mmodo': 902, 'eru': 631, 'trud ': 1274, 'offici': 996, 'mpor ': 917, 'idid': 737, ' sed': 267, ' sunt': 277, 'lor': 863, 'ficia': 684, 'ugiat': 1289, 'aliqui': 353, 'dolo': 531, 'p ': 1062, 'pa': 1063, ' cupida': 65, 'cing ': 444, 'atur': 387, 'fugiat': 690, ' ex ': 119, ' occ': 219, 'voluptate': 1357, 'consequat ': 472, 'oris': 1050, 'io': 770, 'caecat': 409, 'liqu': 841, 'ipiscin': 779, ' paria': 237, 'eiusmo': 572, 'tati': 1249, 'olu': 1015, 'tr': 1271, 'tio': 1268, ' consequat': 56, 'la ': 823, 'rit': 1168, ' deserunt': 76, ' volupt': 311, 'duis': 538, 'molli': 911, 'pariatur ': 1071, 'tet': 1260, ' eius': 95, ' aliqua': 15, 'tion ': 1270, 'onseq': 1038, 'ip ': 774, 'oru': 1052, 'voluptat': 1356, 'si ': 1217, 'ctetur': 477, 'hender': 706, 'anim ': 367, 'conseq': 468, 'cididunt ': 436, ' co': 39, 'at': 375, ' veli': 299, ' incididun': 152, 'cil': 437, 'bor': 395, 'ostr': 1057, 'aute': 391, ' fugi': 137, 'equa': 616, ' labori': 170, 'occaecat': 986, 'cupi': 485, ' volup': 310, 'eserun': 639, 'sin': 1218, 'orem': 1047, ' am': 20, 'em ': 580, 'se': 1195, 'por': 1086, 'xercitati': 1376, 'rehenderit': 1149, ' nos': 206, 'xercita': 1374, 'di': 514, 'mo': 904, 'culpa': 482, 'niam': 941, 'dun': 540, 'oc': 980, 'enim ': 597, ' officia ': 232, 'd': 492, 'mod ': 906, 'did': 515, 'onsecte': 1034, 'eu ': 653, 'te': 1253, ' q': 250, 'atio': 383, 'xerc': 1371, 'pari': 1066, 'nderit': 935, 'ent': 598, 'serunt': 1214, ' a': 1, 'rud ': 1179, 'psu': 1105, 'prehen': 1092, ' tempor': 284, 'ectetur ': 556, 'nsequa': 968, 'nt ': 972, 'cillum': 440, 'ptate': 1111, 'sit ': 1222, 'em': 579, 'nos': 951, 'ex ': 657, ' proid': 245, 'ncid': 924, ' irur': 160, 'deri': 504, 'equat': 617, 'caecat ': 410, ' nul': 213, 'ende': 587, 'volup': 1353, 'lp': 869, 'amco ': 360, 'no': 948, 'except': 661, 'xercitat': 1375, 'offic': 995, 'dolore ': 535, 'ips': 782, ' tempo': 283, 'ulla': 1299, 'ua': 1280, 'mc': 888, 'amet ': 363, 'stru': 1233, 'ctetur ': 478, 'et ': 648, ' duis': 88, 'illum ': 750, 'aboru': 325, 'ommodo': 1026, 'empor ': 584, 'cididu': 433, ' id ': 143, 'ugiat ': 1290, 'ncidi': 925, 'ull': 1298, 'ns': 957, 'pi': 1072, 'erc': 620, 'fi': 681, 'iquip ': 792, 'der': 503, 'g ': 693, 'mollit': 912, 'sc': 1190, 'iqua ': 789, 'xcepte': 1365, 'upta': 1322, 'nseq': 966, 'consecte': 465, ' oc': 218, 'excepteur': 664, ' vo': 307, ' et ': 115, 'repr': 1153, 'consequ': 469, 'cid': 430, 'henderit': 708, 'iru': 794, 'ident': 734, 'scing': 1193, 'proident ': 1103, 'aliqua ': 352, 'borum': 402, 'exerc': 668, 'ing': 763, 'rur': 1185, 'pta': 1109, 'lpa ': 871, 'pa ': 1064, ' ipsum': 156, 'fu': 686, 'ehender': 564, ' labor': 167, 'ididun': 739, ' consect': 50, 'ore': 1045, 'el': 575, ' irure': 161, 'si': 1216, 'sectetu': 1201}\n"
     ]
    }
   ],
   "source": [
    "# parameters to consider later: max_df=1.0, min_df=1, max_features=None\n",
    "# http://scikit-learn.org/stable/modules/generated/sklearn.feature_extraction.text.CountVectorizer.html\n",
    "vectorizer = CountVectorizer(lowercase=True, ngram_range=(1,10), analyzer='char_wb')\n",
    "document_term_matrix = vectorizer.fit_transform(text_list)\n",
    "print(vectorizer.vocabulary_)"
   ]
  },
  {
   "cell_type": "code",
   "execution_count": 5,
   "metadata": {
    "collapsed": false
   },
   "outputs": [
    {
     "data": {
      "text/plain": [
       "1.0"
      ]
     },
     "execution_count": 5,
     "metadata": {},
     "output_type": "execute_result"
    }
   ],
   "source": [
    "clf = svm.LinearSVC()\n",
    "clf.fit(document_term_matrix, labels_list)\n",
    "clf.score(document_term_matrix, labels_list)"
   ]
  },
  {
   "cell_type": "code",
   "execution_count": 6,
   "metadata": {
    "collapsed": false,
    "scrolled": true
   },
   "outputs": [
    {
     "data": {
      "text/plain": [
       "1.0"
      ]
     },
     "execution_count": 6,
     "metadata": {},
     "output_type": "execute_result"
    }
   ],
   "source": [
    "clf = GaussianNB()\n",
    "document_term_matrix_dense = document_term_matrix.toarray()\n",
    "clf.fit(document_term_matrix_dense, labels_list)  # dense data is required. Use X.toarray() to convert\n",
    "clf.score(document_term_matrix_dense, labels_list)"
   ]
  },
  {
   "cell_type": "markdown",
   "metadata": {},
   "source": []
  }
 ],
 "metadata": {
  "anaconda-cloud": {},
  "kernelspec": {
   "display_name": "Python [default]",
   "language": "python",
   "name": "python3"
  },
  "language_info": {
   "codemirror_mode": {
    "name": "ipython",
    "version": 3
   },
   "file_extension": ".py",
   "mimetype": "text/x-python",
   "name": "python",
   "nbconvert_exporter": "python",
   "pygments_lexer": "ipython3",
   "version": "3.5.2"
  }
 },
 "nbformat": 4,
 "nbformat_minor": 1
}
