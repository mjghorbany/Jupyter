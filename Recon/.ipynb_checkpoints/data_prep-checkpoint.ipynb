{
 "cells": [
  {
   "cell_type": "code",
   "execution_count": 135,
   "metadata": {
    "collapsed": false
   },
   "outputs": [],
   "source": [
    "import pandas as pd\n",
    "import numpy as np"
   ]
  },
  {
   "cell_type": "code",
   "execution_count": 136,
   "metadata": {
    "collapsed": false
   },
   "outputs": [],
   "source": [
    "GL_book=pd.ExcelFile('GL.xlsx')\n",
    "df = GL_book.parse('Sheet1')"
   ]
  },
  {
   "cell_type": "code",
   "execution_count": 137,
   "metadata": {
    "collapsed": false
   },
   "outputs": [
    {
     "data": {
      "text/html": [
       "<div>\n",
       "<table border=\"1\" class=\"dataframe\">\n",
       "  <thead>\n",
       "    <tr style=\"text-align: right;\">\n",
       "      <th></th>\n",
       "      <th>line descr</th>\n",
       "      <th>JE date</th>\n",
       "      <th>posted date</th>\n",
       "      <th>amount</th>\n",
       "    </tr>\n",
       "  </thead>\n",
       "  <tbody>\n",
       "    <tr>\n",
       "      <th>0</th>\n",
       "      <td>CA - CASH</td>\n",
       "      <td>2016-01-11</td>\n",
       "      <td>2016-02-11</td>\n",
       "      <td>228.76</td>\n",
       "    </tr>\n",
       "    <tr>\n",
       "      <th>1</th>\n",
       "      <td>CA - CASH</td>\n",
       "      <td>2016-02-11</td>\n",
       "      <td>2016-03-11</td>\n",
       "      <td>92.23</td>\n",
       "    </tr>\n",
       "    <tr>\n",
       "      <th>2</th>\n",
       "      <td>PT - PETTY CASH EXPENSE</td>\n",
       "      <td>2016-02-11</td>\n",
       "      <td>2016-03-11</td>\n",
       "      <td>-15.89</td>\n",
       "    </tr>\n",
       "    <tr>\n",
       "      <th>3</th>\n",
       "      <td>CA - CASH</td>\n",
       "      <td>2016-03-11</td>\n",
       "      <td>2016-04-11</td>\n",
       "      <td>167.58</td>\n",
       "    </tr>\n",
       "    <tr>\n",
       "      <th>4</th>\n",
       "      <td>CA - CASH</td>\n",
       "      <td>2016-04-11</td>\n",
       "      <td>2016-05-11</td>\n",
       "      <td>927.25</td>\n",
       "    </tr>\n",
       "    <tr>\n",
       "      <th>5</th>\n",
       "      <td>PT - PETTY CASH EXPENSE</td>\n",
       "      <td>2016-04-11</td>\n",
       "      <td>2016-05-11</td>\n",
       "      <td>-48.58</td>\n",
       "    </tr>\n",
       "    <tr>\n",
       "      <th>6</th>\n",
       "      <td>000196G201110001</td>\n",
       "      <td>2016-05-11</td>\n",
       "      <td>2016-05-11</td>\n",
       "      <td>-1200.00</td>\n",
       "    </tr>\n",
       "    <tr>\n",
       "      <th>7</th>\n",
       "      <td>CA - CASH</td>\n",
       "      <td>2016-05-11</td>\n",
       "      <td>2016-06-11</td>\n",
       "      <td>426.09</td>\n",
       "    </tr>\n",
       "    <tr>\n",
       "      <th>8</th>\n",
       "      <td>PT - PETTY CASH EXPENSE</td>\n",
       "      <td>2016-06-11</td>\n",
       "      <td>2016-07-11</td>\n",
       "      <td>-38.48</td>\n",
       "    </tr>\n",
       "    <tr>\n",
       "      <th>9</th>\n",
       "      <td>CA - CASH</td>\n",
       "      <td>2016-06-11</td>\n",
       "      <td>2016-07-11</td>\n",
       "      <td>255.79</td>\n",
       "    </tr>\n",
       "  </tbody>\n",
       "</table>\n",
       "</div>"
      ],
      "text/plain": [
       "                line descr    JE date posted date   amount\n",
       "0                CA - CASH 2016-01-11  2016-02-11   228.76\n",
       "1                CA - CASH 2016-02-11  2016-03-11    92.23\n",
       "2  PT - PETTY CASH EXPENSE 2016-02-11  2016-03-11   -15.89\n",
       "3                CA - CASH 2016-03-11  2016-04-11   167.58\n",
       "4                CA - CASH 2016-04-11  2016-05-11   927.25\n",
       "5  PT - PETTY CASH EXPENSE 2016-04-11  2016-05-11   -48.58\n",
       "6         000196G201110001 2016-05-11  2016-05-11 -1200.00\n",
       "7                CA - CASH 2016-05-11  2016-06-11   426.09\n",
       "8  PT - PETTY CASH EXPENSE 2016-06-11  2016-07-11   -38.48\n",
       "9                CA - CASH 2016-06-11  2016-07-11   255.79"
      ]
     },
     "execution_count": 137,
     "metadata": {},
     "output_type": "execute_result"
    }
   ],
   "source": [
    "GL=df[['line descr','JE date','posted date','amount']]\n",
    "GL.head(10)"
   ]
  },
  {
   "cell_type": "code",
   "execution_count": 138,
   "metadata": {
    "collapsed": false
   },
   "outputs": [
    {
     "data": {
      "text/plain": [
       "0    2016-02-11\n",
       "1    2016-03-11\n",
       "2    2016-03-11\n",
       "3    2016-04-11\n",
       "4    2016-05-11\n",
       "5    2016-05-11\n",
       "6    2016-05-11\n",
       "7    2016-06-11\n",
       "8    2016-07-11\n",
       "9    2016-07-11\n",
       "10   2016-08-11\n",
       "11   2016-09-11\n",
       "12   2016-10-11\n",
       "13   2016-11-11\n",
       "14   2016-12-11\n",
       "15   2016-12-11\n",
       "16   2016-11-13\n",
       "17   2016-12-11\n",
       "18   2016-12-11\n",
       "19   2016-11-14\n",
       "20   2016-11-14\n",
       "21   2016-11-15\n",
       "22   2016-11-16\n",
       "23   2016-11-17\n",
       "24   2016-11-18\n",
       "25   2016-11-18\n",
       "26   2016-11-20\n",
       "27   2016-11-20\n",
       "28   2016-11-20\n",
       "29   2016-11-20\n",
       "30   2016-11-21\n",
       "31   2016-11-21\n",
       "32   2016-11-22\n",
       "33   2016-11-22\n",
       "34   2016-11-23\n",
       "35   2016-11-24\n",
       "36   2016-11-25\n",
       "37   2016-11-26\n",
       "38   2016-11-26\n",
       "39   2016-11-26\n",
       "40   2016-11-26\n",
       "41   2016-11-27\n",
       "42   2016-11-28\n",
       "43   2016-11-29\n",
       "44   2016-11-29\n",
       "45   2016-11-29\n",
       "46   2016-11-30\n",
       "47   2016-11-30\n",
       "48   2016-01-12\n",
       "49   2016-01-12\n",
       "Name: posted date, dtype: datetime64[ns]"
      ]
     },
     "execution_count": 138,
     "metadata": {},
     "output_type": "execute_result"
    }
   ],
   "source": [
    "#GLc=GL.append(GL_grouped,ignore_index=True)\n",
    "GL_amount_list=GL['amount'].tolist()\n",
    "GLc=GL_amount_list+GL_grouped\n",
    "np.savetxt(\"GL_amount.csv\", GLc, delimiter=\",\",fmt='%f')\n",
    "GL['posted date']"
   ]
  },
  {
   "cell_type": "code",
   "execution_count": 147,
   "metadata": {
    "collapsed": false
   },
   "outputs": [
    {
     "data": {
      "text/plain": [
       "0"
      ]
     },
     "execution_count": 147,
     "metadata": {},
     "output_type": "execute_result"
    }
   ],
   "source": [
    "#GL_grouped=GL.groupby(['posted date']).sum()\n",
    "#GL_grouped['posted date']=GL_grouped.index\n",
    "from datetime import datetime\n",
    "GL_grouped=[]\n",
    "\n",
    "for i in GL.index:\n",
    "    date1=GL['posted date'][i]\n",
    "    d1=date1.to_datetime()\n",
    "    for j in GL.index:\n",
    "        date2=GL['posted date'][j]\n",
    "        d2=date2.to_datetime()\n",
    "        if ((d2-d1).days) <3:\n",
    "            #print(i,j)\n",
    "            val=GL['amount'][i]+GL['amount'][j]\n",
    "            GL_grouped.append(val)\n",
    "\n",
    "date1=GL['posted date'][1]\n",
    "date2=GL['posted date'][2] \n",
    "d1=date1.to_datetime()\n",
    "d2=date2.to_datetime()\n",
    "(d2-d1).days"
   ]
  },
  {
   "cell_type": "code",
   "execution_count": 140,
   "metadata": {
    "collapsed": false
   },
   "outputs": [],
   "source": [
    "# Importing the Deposit File\n",
    "depo_excel=pd.ExcelFile('deposits.xlsx')\n",
    "depo = depo_excel.parse('Sheet1')\n",
    "#depo\n",
    "depo_amount=depo['amount']\n",
    "np.savetxt(\"depo_amount.csv\", depo_amount, delimiter=\",\",fmt='%f')"
   ]
  },
  {
   "cell_type": "code",
   "execution_count": 141,
   "metadata": {
    "collapsed": false
   },
   "outputs": [
    {
     "data": {
      "text/plain": [
       "0   -1200.0\n",
       "1   -2000.0\n",
       "2    -200.0\n",
       "3    -170.6\n",
       "4   -1200.0\n",
       "5    -500.0\n",
       "6   -2000.0\n",
       "7    -850.0\n",
       "8   -1300.0\n",
       "Name: amount, dtype: float64"
      ]
     },
     "execution_count": 141,
     "metadata": {},
     "output_type": "execute_result"
    }
   ],
   "source": [
    "# Importing the Withdrawal Files\n",
    "wd_excel=pd.ExcelFile('withdrawal.xlsx')\n",
    "wd = wd_excel.parse('Sheet1')\n",
    "wd['amount']"
   ]
  },
  {
   "cell_type": "code",
   "execution_count": 142,
   "metadata": {
    "collapsed": false
   },
   "outputs": [
    {
     "data": {
      "text/plain": [
       "228.75999999999999"
      ]
     },
     "execution_count": 142,
     "metadata": {},
     "output_type": "execute_result"
    }
   ],
   "source": [
    "# Building the GLc and depo net\n",
    "#GLc = GLc.rename(columns={'posted date': 'date'})\n",
    "#pd.merge(GLc, depo, on=['amount'], how='right')\n",
    "GLc[0]"
   ]
  },
  {
   "cell_type": "code",
   "execution_count": 143,
   "metadata": {
    "collapsed": false
   },
   "outputs": [],
   "source": [
    "# Building the GLc and wd net\n",
    "#pd.merge(GLc, wd, on=['amount'], how='right')\n",
    "GL_wd=np.zeros((len(GLc),wd.index.size))\n",
    "GL_wd_T=np.zeros((len(GLc),1))\n",
    "\n",
    "\n",
    "for i in range(0,len(GLc)):\n",
    "    for j in wd.index:\n",
    "        #print(i,j)\n",
    "        if GLc[i]==wd['amount'][j]:\n",
    "            #print(i,j)\n",
    "            GL_wd[i,j]=1\n",
    "    #GL_wd_T[i]=sum(GL_wd[i])\n",
    "#GL_wd  \n",
    "#np.sum(GL_wd, axis=1)\n"
   ]
  },
  {
   "cell_type": "code",
   "execution_count": 144,
   "metadata": {
    "collapsed": false
   },
   "outputs": [],
   "source": [
    "# Building the GLc and depo net\n",
    "GL_depo=np.zeros((len(GLc),depo.index.size))\n",
    "for i in range(0,len(GLc)):\n",
    "    for j in depo.index:\n",
    "        if GLc[i]==depo['amount'][j]:\n",
    "            #print(i,j)\n",
    "            GL_depo[i,j]=1 \n",
    "            \n",
    "GL_depo_rows=np.sum(GL_depo, axis=1) \n",
    "np.savetxt(\"GL_depo_rows.csv\", GL_depo_rows, delimiter=\",\",fmt='%f')\n",
    "np.savetxt(\"GL_depo.csv\", GL_depo, delimiter=\",\",fmt='%f')"
   ]
  },
  {
   "cell_type": "code",
   "execution_count": 145,
   "metadata": {
    "collapsed": false
   },
   "outputs": [
    {
     "data": {
      "text/plain": [
       "<matplotlib.image.AxesImage at 0x117c53748>"
      ]
     },
     "execution_count": 145,
     "metadata": {},
     "output_type": "execute_result"
    },
    {
     "data": {
      "image/png": "[encoded data removed]",
      "text/plain": [
       "<matplotlib.figure.Figure at 0x116758940>"
      ]
     },
     "metadata": {},
     "output_type": "display_data"
    }
   ],
   "source": [
    "%matplotlib inline\n",
    "import matplotlib\n",
    "import matplotlib.pyplot as plt\n",
    "GL_depo[GL_depo == 0.0] = np.nan\n",
    "plt.imshow(GL_depo,interpolation='nearest', aspect='auto')"
   ]
  },
  {
   "cell_type": "code",
   "execution_count": 146,
   "metadata": {
    "collapsed": false
   },
   "outputs": [
    {
     "data": {
      "text/plain": [
       "<matplotlib.image.AxesImage at 0x117d47748>"
      ]
     },
     "execution_count": 146,
     "metadata": {},
     "output_type": "execute_result"
    },
    {
     "data": {
      "image/png": "[encoded data removed]",
      "text/plain": [
       "<matplotlib.figure.Figure at 0x117b76d30>"
      ]
     },
     "metadata": {},
     "output_type": "display_data"
    }
   ],
   "source": [
    "GL_wd[GL_wd == 0.0] = np.nan\n",
    "plt.imshow(GL_wd,interpolation='nearest', aspect='auto')"
   ]
  },
  {
   "cell_type": "code",
   "execution_count": null,
   "metadata": {
    "collapsed": true
   },
   "outputs": [],
   "source": []
  }
 ],
 "metadata": {
  "anaconda-cloud": {},
  "kernelspec": {
   "display_name": "Python [conda root]",
   "language": "python",
   "name": "conda-root-py"
  },
  "language_info": {
   "codemirror_mode": {
    "name": "ipython",
    "version": 3
   },
   "file_extension": ".py",
   "mimetype": "text/x-python",
   "name": "python",
   "nbconvert_exporter": "python",
   "pygments_lexer": "ipython3",
   "version": "3.5.2"
  }
 },
 "nbformat": 4,
 "nbformat_minor": 1
}
