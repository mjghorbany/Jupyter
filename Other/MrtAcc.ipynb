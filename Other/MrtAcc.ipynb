{
 "cells": [
  {
   "cell_type": "code",
   "execution_count": 1,
   "metadata": {
    "collapsed": false
   },
   "outputs": [],
   "source": [
    "import csv\n",
    "import pandas as pd\n",
    "import numpy as np\n",
    "import re\n",
    "import locale\n",
    "from locale import atof\n",
    "\n",
    "filename1 = 'm1.csv'\n",
    "df1= pd.read_csv(filename1)\n",
    "\n",
    "filename2 = 'm2.csv'\n",
    "dfo= pd.read_csv(filename2)\n",
    "\n",
    "\n",
    "dfo['Name'] = dfo['Name'].str.replace(r'[,]', '').astype('float')\n",
    "df2 = dfo[dfo.Name >= 0 ]"
   ]
  },
  {
   "cell_type": "code",
   "execution_count": 2,
   "metadata": {
    "collapsed": false
   },
   "outputs": [],
   "source": [
    "accs = list(df1['Account'])\n",
    "desc1=df1['Description']\n",
    "desc2=df1['Name']\n",
    "desc=list(desc1+' '+desc2)"
   ]
  },
  {
   "cell_type": "code",
   "execution_count": 3,
   "metadata": {
    "collapsed": false
   },
   "outputs": [],
   "source": [
    "accs_test = list(df2['Account'])\n",
    "desc1_test=df2['Description1']\n",
    "#desc2_test=df2['Description2']\n",
    "desc3_test=df2['PL']\n",
    "desc_test=list(desc1_test+' '+desc3_test)\n",
    "#list(desc_test)[:5]"
   ]
  },
  {
   "cell_type": "code",
   "execution_count": 4,
   "metadata": {
    "collapsed": false,
    "scrolled": true
   },
   "outputs": [
    {
     "name": "stdout",
     "output_type": "stream",
     "text": [
      "['This', 'is', 'a', 'string', 'with', 'words']\n"
     ]
    },
    {
     "data": {
      "text/plain": [
       "0.6257668711656442"
      ]
     },
     "execution_count": 4,
     "metadata": {},
     "output_type": "execute_result"
    }
   ],
   "source": [
    "mystr = 'This is a string, with words!'\n",
    "wordList = re.sub(\"[^\\w]\", \" \",  mystr).split()\n",
    "print(wordList)\n",
    "from difflib import SequenceMatcher as SM\n",
    "\n",
    "s1o=df1.loc[[22], 'Description']\n",
    "s1=str(s1o)\n",
    "#print(s1)\n",
    "\n",
    "s2o=df1.loc[[99], 'Description']\n",
    "s2=str(s2o)\n",
    "#print(s2)\n",
    "\n",
    "SM(None, s1, s2).ratio()"
   ]
  },
  {
   "cell_type": "code",
   "execution_count": 5,
   "metadata": {
    "collapsed": false
   },
   "outputs": [],
   "source": [
    "from sklearn.feature_extraction.text import CountVectorizer\n",
    "from sklearn import svm\n",
    "from sklearn.naive_bayes import GaussianNB\n",
    "\n",
    "trn_len=len(desc)"
   ]
  },
  {
   "cell_type": "code",
   "execution_count": 19,
   "metadata": {
    "collapsed": false
   },
   "outputs": [],
   "source": [
    "desc_total=desc+desc_test\n",
    "\n",
    "vectorizer = CountVectorizer(lowercase=True, ngram_range=(1,10), analyzer='char_wb')\n",
    "desc_total_vector = vectorizer.fit_transform(desc_total)\n",
    "\n",
    "desc_vector=desc_total_vector[:trn_len]\n",
    "#print(vectorizer.vocabulary_)"
   ]
  },
  {
   "cell_type": "code",
   "execution_count": 20,
   "metadata": {
    "collapsed": false
   },
   "outputs": [
    {
     "data": {
      "text/plain": [
       "0.96361631753031973"
      ]
     },
     "execution_count": 20,
     "metadata": {},
     "output_type": "execute_result"
    }
   ],
   "source": [
    "# Traning the model\n",
    "clf = svm.LinearSVC()\n",
    "clf.fit(desc_vector, accs)\n",
    "clf.score(desc_vector, accs)"
   ]
  },
  {
   "cell_type": "code",
   "execution_count": 21,
   "metadata": {
    "collapsed": false
   },
   "outputs": [
    {
     "name": "stdout",
     "output_type": "stream",
     "text": [
      "[      0       0   -7701       0       0       0       0 -228114       0\n",
      "       0       0       0       0 -228114       0   48800 -227992 -227992\n",
      "       0 -227992 -227992       0  360201       0       0       0       0\n",
      "       0       0       0       0       0       0       0       0       0\n",
      "       0    1307       0  576890  385709       0   98916       0       0\n",
      "   -2902    -898  418911  102089  385630       0  388790  -19812       0\n",
      "      -3       0   -7701       0      30 -228114       0       0  377884\n",
      "    1200    -898    -898    -901       0       0       0       0       0\n",
      "       0       0       0       0]\n",
      "[601108, 610201, 610107, 631206, 634105, 618010, 664501, 618115, 610105, 414001, 414001, 610415, 618010, 618115, 652101, 608203, 608203, 608203, 608203, 608203, 608203, 608203, 248002, 414001, 414001, 414001, 414001, 414001, 414001, 414001, 414001, 414001, 414001, 414001, 414001, 414001, 414001, 601101, 414001, 411120, 602301, 414001, 411120, 652302, 618001, 634105, 632101, 350091, 248002, 602406, 602406, 380212, 580114, 616211, 631206, 610201, 610107, 610105, 610106, 618115, 610105, 610125, 610125, 630003, 632101, 632101, 632104, 601108, 601109, 610122, 631206, 632101, 630019, 601101, 740002, 701132]\n"
     ]
    },
    {
     "data": {
      "text/plain": [
       "0.61842105263157898"
      ]
     },
     "execution_count": 21,
     "metadata": {},
     "output_type": "execute_result"
    }
   ],
   "source": [
    "# On Test Data\n",
    "desc_test_vector = desc_total_vector[trn_len:]\n",
    "accs_test_predict=clf.predict(desc_test_vector)\n",
    "\n",
    "print(accs_test_predict-accs_test)\n",
    "print(accs_test)\n",
    "clf.score(desc_test_vector, accs_test)\n"
   ]
  },
  {
   "cell_type": "code",
   "execution_count": 22,
   "metadata": {
    "collapsed": false
   },
   "outputs": [
    {
     "data": {
      "text/plain": [
       "0.9680264608599779"
      ]
     },
     "execution_count": 22,
     "metadata": {},
     "output_type": "execute_result"
    }
   ],
   "source": [
    "from sklearn import tree\n",
    "clf = tree.DecisionTreeClassifier()\n",
    "clf = clf.fit(desc_vector, accs)\n",
    "\n",
    "clf.score(desc_vector, accs)"
   ]
  },
  {
   "cell_type": "code",
   "execution_count": 23,
   "metadata": {
    "collapsed": false
   },
   "outputs": [
    {
     "data": {
      "text/plain": [
       "0.039473684210526314"
      ]
     },
     "execution_count": 23,
     "metadata": {},
     "output_type": "execute_result"
    }
   ],
   "source": [
    "clf.score(desc_test_vector, accs_test)"
   ]
  },
  {
   "cell_type": "code",
   "execution_count": 51,
   "metadata": {
    "collapsed": false
   },
   "outputs": [
    {
     "data": {
      "text/plain": [
       "0.9680264608599779"
      ]
     },
     "execution_count": 51,
     "metadata": {},
     "output_type": "execute_result"
    }
   ],
   "source": [
    "# Create and fit a nearest-neighbor classifier\n",
    "from sklearn.neighbors import KNeighborsClassifier\n",
    "knn = KNeighborsClassifier(algorithm='auto', leaf_size=10, metric='minkowski',metric_params=None, n_jobs=2, n_neighbors=1, p=2,weights='uniform')\n",
    "knn.fit(desc_vector, accs) \n",
    "\n",
    "knn.score(desc_vector, accs)"
   ]
  },
  {
   "cell_type": "code",
   "execution_count": 52,
   "metadata": {
    "collapsed": false
   },
   "outputs": [
    {
     "data": {
      "text/plain": [
       "0.42105263157894735"
      ]
     },
     "execution_count": 52,
     "metadata": {},
     "output_type": "execute_result"
    }
   ],
   "source": [
    "knn.score(desc_test_vector, accs_test)"
   ]
  },
  {
   "cell_type": "code",
   "execution_count": 53,
   "metadata": {
    "collapsed": false
   },
   "outputs": [
    {
     "data": {
      "text/plain": [
       "array([   8997,     904,   -7701,      -3,       0,       0,       0,\n",
       "        -49114,       0,       0,       0,    5796,       0,  -49114,\n",
       "        -41996, -228001,   26900,   26900,   26900,   26900, -228001,\n",
       "             0,  360201,       0,       0,       0,       0,       0,\n",
       "             0,       0,       0,       0,       0,       0,       0,\n",
       "             0,       0,   34002,       0,  223983,   32802,       0,\n",
       "        576889,  -51201,   17102,      -4,    -898,  285012,  102089,\n",
       "         32697,       0,  -49162,  407933,       0,    2895,     904,\n",
       "         -7701,       0,      30,   16988,       0,     980,     980,\n",
       "          1200,    2000,    -898,    -901,    8997,  -32108,  150477,\n",
       "            -3,       0,       0,       0,  -50001,       0])"
      ]
     },
     "execution_count": 53,
     "metadata": {},
     "output_type": "execute_result"
    }
   ],
   "source": [
    "knn.predict(desc_test_vector)-accs_test"
   ]
  },
  {
   "cell_type": "code",
   "execution_count": 55,
   "metadata": {
    "collapsed": false
   },
   "outputs": [
    {
     "data": {
      "text/plain": [
       "0.95589856670341788"
      ]
     },
     "execution_count": 55,
     "metadata": {},
     "output_type": "execute_result"
    }
   ],
   "source": [
    "# Create and fit a nearest-neighbor classifier\n",
    "from sklearn.multiclass import OneVsRestClassifier\n",
    "from sklearn.svm import SVC\n",
    "classif = OneVsRestClassifier(SVC(kernel='linear'))\n",
    "classif.fit(desc_vector, accs)\n",
    "classif.score(desc_vector, accs)"
   ]
  },
  {
   "cell_type": "code",
   "execution_count": 56,
   "metadata": {
    "collapsed": false
   },
   "outputs": [
    {
     "data": {
      "text/plain": [
       "0.56578947368421051"
      ]
     },
     "execution_count": 56,
     "metadata": {},
     "output_type": "execute_result"
    }
   ],
   "source": [
    "classif.score(desc_test_vector, accs_test)"
   ]
  },
  {
   "cell_type": "code",
   "execution_count": null,
   "metadata": {
    "collapsed": true
   },
   "outputs": [],
   "source": []
  }
 ],
 "metadata": {
  "anaconda-cloud": {},
  "kernelspec": {
   "display_name": "Python [default]",
   "language": "python",
   "name": "python3"
  },
  "language_info": {
   "codemirror_mode": {
    "name": "ipython",
    "version": 3
   },
   "file_extension": ".py",
   "mimetype": "text/x-python",
   "name": "python",
   "nbconvert_exporter": "python",
   "pygments_lexer": "ipython3",
   "version": "3.5.2"
  }
 },
 "nbformat": 4,
 "nbformat_minor": 1
}
