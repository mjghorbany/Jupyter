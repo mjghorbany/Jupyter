{
 "cells": [
  {
   "cell_type": "code",
   "execution_count": 10,
   "metadata": {
    "collapsed": false
   },
   "outputs": [],
   "source": [
    "import pandas as pd\n",
    "import numpy as np"
   ]
  },
  {
   "cell_type": "code",
   "execution_count": 11,
   "metadata": {
    "collapsed": false
   },
   "outputs": [],
   "source": [
    "GL_book=pd.ExcelFile('GL.xlsx')\n",
    "df = GL_book.parse('Sheet1')"
   ]
  },
  {
   "cell_type": "code",
   "execution_count": 12,
   "metadata": {
    "collapsed": false
   },
   "outputs": [
    {
     "data": {
      "text/html": [
       "<div>\n",
       "<table border=\"1\" class=\"dataframe\">\n",
       "  <thead>\n",
       "    <tr style=\"text-align: right;\">\n",
       "      <th></th>\n",
       "      <th>JE date</th>\n",
       "      <th>line descr</th>\n",
       "      <th>posted date</th>\n",
       "      <th>amount</th>\n",
       "    </tr>\n",
       "  </thead>\n",
       "  <tbody>\n",
       "    <tr>\n",
       "      <th>0</th>\n",
       "      <td>2016-01-11</td>\n",
       "      <td>CA - CASH</td>\n",
       "      <td>2016-11-02</td>\n",
       "      <td>228.76</td>\n",
       "    </tr>\n",
       "    <tr>\n",
       "      <th>1</th>\n",
       "      <td>2016-02-11</td>\n",
       "      <td>CA - CASH</td>\n",
       "      <td>2016-11-03</td>\n",
       "      <td>92.23</td>\n",
       "    </tr>\n",
       "    <tr>\n",
       "      <th>2</th>\n",
       "      <td>2016-02-11</td>\n",
       "      <td>PT - PETTY CASH EXPENSE</td>\n",
       "      <td>2016-11-03</td>\n",
       "      <td>-15.89</td>\n",
       "    </tr>\n",
       "    <tr>\n",
       "      <th>3</th>\n",
       "      <td>2016-03-11</td>\n",
       "      <td>CA - CASH</td>\n",
       "      <td>2016-11-04</td>\n",
       "      <td>167.58</td>\n",
       "    </tr>\n",
       "    <tr>\n",
       "      <th>4</th>\n",
       "      <td>2016-04-11</td>\n",
       "      <td>CA - CASH</td>\n",
       "      <td>2016-11-05</td>\n",
       "      <td>927.25</td>\n",
       "    </tr>\n",
       "    <tr>\n",
       "      <th>5</th>\n",
       "      <td>2016-04-11</td>\n",
       "      <td>PT - PETTY CASH EXPENSE</td>\n",
       "      <td>2016-11-05</td>\n",
       "      <td>-48.58</td>\n",
       "    </tr>\n",
       "    <tr>\n",
       "      <th>6</th>\n",
       "      <td>2016-05-11</td>\n",
       "      <td>000196G201110001</td>\n",
       "      <td>2016-11-05</td>\n",
       "      <td>-1200.00</td>\n",
       "    </tr>\n",
       "    <tr>\n",
       "      <th>7</th>\n",
       "      <td>2016-05-11</td>\n",
       "      <td>CA - CASH</td>\n",
       "      <td>2016-11-06</td>\n",
       "      <td>426.09</td>\n",
       "    </tr>\n",
       "    <tr>\n",
       "      <th>8</th>\n",
       "      <td>2016-06-11</td>\n",
       "      <td>PT - PETTY CASH EXPENSE</td>\n",
       "      <td>2016-11-07</td>\n",
       "      <td>-38.48</td>\n",
       "    </tr>\n",
       "    <tr>\n",
       "      <th>9</th>\n",
       "      <td>2016-06-11</td>\n",
       "      <td>CA - CASH</td>\n",
       "      <td>2016-11-07</td>\n",
       "      <td>255.79</td>\n",
       "    </tr>\n",
       "  </tbody>\n",
       "</table>\n",
       "</div>"
      ],
      "text/plain": [
       "     JE date               line descr posted date   amount\n",
       "0 2016-01-11                CA - CASH  2016-11-02   228.76\n",
       "1 2016-02-11                CA - CASH  2016-11-03    92.23\n",
       "2 2016-02-11  PT - PETTY CASH EXPENSE  2016-11-03   -15.89\n",
       "3 2016-03-11                CA - CASH  2016-11-04   167.58\n",
       "4 2016-04-11                CA - CASH  2016-11-05   927.25\n",
       "5 2016-04-11  PT - PETTY CASH EXPENSE  2016-11-05   -48.58\n",
       "6 2016-05-11         000196G201110001  2016-11-05 -1200.00\n",
       "7 2016-05-11                CA - CASH  2016-11-06   426.09\n",
       "8 2016-06-11  PT - PETTY CASH EXPENSE  2016-11-07   -38.48\n",
       "9 2016-06-11                CA - CASH  2016-11-07   255.79"
      ]
     },
     "execution_count": 12,
     "metadata": {},
     "output_type": "execute_result"
    }
   ],
   "source": [
    "GL=df[['JE date','line descr','posted date','amount']]\n",
    "GL.head(10)"
   ]
  },
  {
   "cell_type": "code",
   "execution_count": 13,
   "metadata": {
    "collapsed": false
   },
   "outputs": [],
   "source": [
    "#GLc=GL.append(GL_grouped,ignore_index=True)\n",
    "GL_amount_list=GL['amount'].tolist()\n"
   ]
  },
  {
   "cell_type": "code",
   "execution_count": 22,
   "metadata": {
    "collapsed": false
   },
   "outputs": [
    {
     "name": "stdout",
     "output_type": "stream",
     "text": [
      "2016-11-11 00:00:00 2016-11-12 00:00:00\n",
      "2016-11-11 00:00:00 2016-11-12 00:00:00\n"
     ]
    },
    {
     "name": "stderr",
     "output_type": "stream",
     "text": [
      "/Users/jay.ghorbani/anaconda/lib/python3.6/site-packages/IPython/core/interactiveshell.py:2881: FutureWarning: to_datetime is deprecated. Use self.to_pydatetime()\n",
      "  exec(code_obj, self.user_global_ns, self.user_ns)\n"
     ]
    },
    {
     "data": {
      "text/plain": [
       "11"
      ]
     },
     "execution_count": 22,
     "metadata": {},
     "output_type": "execute_result"
    }
   ],
   "source": [
    "#GL_grouped=GL.groupby(['posted date']).sum()\n",
    "#GL_grouped['posted date']=GL_grouped.index\n",
    "from datetime import datetime\n",
    "GL_grouped=[]\n",
    "\n",
    "for i in GL.index:\n",
    "    date1=GL['posted date'][i]\n",
    "    d1=date1.to_datetime()\n",
    "    for j in GL.index:\n",
    "        date2=GL['posted date'][j]\n",
    "        d2=date2.to_datetime()\n",
    "        if  ((d2-d1).days)<2  and j>i:\n",
    "            #print(i,j)\n",
    "            val=GL['amount'][i]+GL['amount'][j]\n",
    "            GL_grouped.append(val)\n",
    "\n",
    "            \n",
    "GLc=GL_amount_list+GL_grouped\n",
    "np.savetxt(\"GL_amount.csv\", GLc, delimiter=\",\",fmt='%f')\n",
    "            \n",
    "date1=GL['posted date'][13]\n",
    "date2=GL['posted date'][14]\n",
    "print(date1,date2)\n",
    "d1=date1.to_datetime()\n",
    "d2=date2.to_datetime()\n",
    "\n",
    "print(d1,d2)\n",
    "(d2-d1).days\n",
    "\n",
    "d2.month"
   ]
  },
  {
   "cell_type": "code",
   "execution_count": 15,
   "metadata": {
    "collapsed": false
   },
   "outputs": [],
   "source": [
    "# Importing the Deposit File\n",
    "depo_excel=pd.ExcelFile('deposits.xlsx')\n",
    "depo = depo_excel.parse('Sheet1')\n",
    "#depo\n",
    "depo_amount=depo['amount']\n",
    "np.savetxt(\"depo_amount.csv\", depo_amount, delimiter=\",\",fmt='%f')"
   ]
  },
  {
   "cell_type": "code",
   "execution_count": 16,
   "metadata": {
    "collapsed": false
   },
   "outputs": [
    {
     "data": {
      "text/plain": [
       "0   -1200.0\n",
       "1   -2000.0\n",
       "2    -200.0\n",
       "3    -170.6\n",
       "4   -1200.0\n",
       "5    -500.0\n",
       "6   -2000.0\n",
       "7    -850.0\n",
       "8   -1300.0\n",
       "Name: amount, dtype: float64"
      ]
     },
     "execution_count": 16,
     "metadata": {},
     "output_type": "execute_result"
    }
   ],
   "source": [
    "# Importing the Withdrawal Files\n",
    "wd_excel=pd.ExcelFile('withdrawal.xlsx')\n",
    "wd = wd_excel.parse('Sheet1')\n",
    "wd['amount']"
   ]
  },
  {
   "cell_type": "code",
   "execution_count": 17,
   "metadata": {
    "collapsed": false
   },
   "outputs": [
    {
     "data": {
      "text/plain": [
       "228.76"
      ]
     },
     "execution_count": 17,
     "metadata": {},
     "output_type": "execute_result"
    }
   ],
   "source": [
    "# Building the GLc and depo net\n",
    "#GLc = GLc.rename(columns={'posted date': 'date'})\n",
    "#pd.merge(GLc, depo, on=['amount'], how='right')\n",
    "GLc[0]"
   ]
  },
  {
   "cell_type": "code",
   "execution_count": 18,
   "metadata": {
    "collapsed": false
   },
   "outputs": [],
   "source": [
    "# Building the GLc and wd net\n",
    "#pd.merge(GLc, wd, on=['amount'], how='right')\n",
    "GL_wd=np.zeros((len(GLc),wd.index.size))\n",
    "GL_wd_T=np.zeros((len(GLc),1))\n",
    "\n",
    "\n",
    "for i in range(0,len(GLc)):\n",
    "    for j in wd.index:\n",
    "        #print(i,j)\n",
    "        if GLc[i]==wd['amount'][j]:\n",
    "            #print(i,j)\n",
    "            GL_wd[i,j]=1\n",
    "    #GL_wd_T[i]=sum(GL_wd[i])\n",
    "#GL_wd  \n",
    "#np.sum(GL_wd, axis=1)\n"
   ]
  },
  {
   "cell_type": "code",
   "execution_count": 19,
   "metadata": {
    "collapsed": false
   },
   "outputs": [],
   "source": [
    "# Building the GLc and depo net\n",
    "GL_depo=np.zeros((len(GLc),depo.index.size))\n",
    "for i in range(0,len(GLc)):\n",
    "    for j in depo.index:\n",
    "        if GLc[i]==depo['amount'][j]:\n",
    "            #print(i,j)\n",
    "            GL_depo[i,j]=1 \n",
    "            \n",
    "GL_depo_rows=np.sum(GL_depo, axis=1) \n",
    "np.savetxt(\"GL_depo_rows.csv\", GL_depo_rows, delimiter=\",\",fmt='%f')\n",
    "np.savetxt(\"GL_depo.csv\", GL_depo, delimiter=\",\",fmt='%f')"
   ]
  },
  {
   "cell_type": "code",
   "execution_count": 20,
   "metadata": {
    "collapsed": false
   },
   "outputs": [
    {
     "data": {
      "text/plain": [
       "<matplotlib.image.AxesImage at 0x11aa9ad30>"
      ]
     },
     "execution_count": 20,
     "metadata": {},
     "output_type": "execute_result"
    },
    {
     "data": {
      "image/png": "[encoded data removed]",
      "text/plain": [
       "<matplotlib.figure.Figure at 0x116797080>"
      ]
     },
     "metadata": {},
     "output_type": "display_data"
    }
   ],
   "source": [
    "%matplotlib inline\n",
    "import matplotlib\n",
    "import matplotlib.pyplot as plt\n",
    "GL_depo[GL_depo == 0.0] = np.nan\n",
    "plt.imshow(GL_depo,interpolation='nearest', aspect='auto')"
   ]
  },
  {
   "cell_type": "code",
   "execution_count": 21,
   "metadata": {
    "collapsed": false
   },
   "outputs": [
    {
     "data": {
      "text/plain": [
       "<matplotlib.image.AxesImage at 0x11aaff588>"
      ]
     },
     "execution_count": 21,
     "metadata": {},
     "output_type": "execute_result"
    },
    {
     "data": {
      "image/png": "[encoded data removed]",
      "text/plain": [
       "<matplotlib.figure.Figure at 0x11aac98d0>"
      ]
     },
     "metadata": {},
     "output_type": "display_data"
    }
   ],
   "source": [
    "GL_wd[GL_wd == 0.0] = np.nan\n",
    "plt.imshow(GL_wd,interpolation='nearest', aspect='auto')"
   ]
  },
  {
   "cell_type": "code",
   "execution_count": null,
   "metadata": {
    "collapsed": false
   },
   "outputs": [],
   "source": []
  },
  {
   "cell_type": "code",
   "execution_count": null,
   "metadata": {
    "collapsed": true
   },
   "outputs": [],
   "source": []
  }
 ],
 "metadata": {
  "anaconda-cloud": {},
  "kernelspec": {
   "display_name": "Python 3",
   "language": "python",
   "name": "python3"
  },
  "language_info": {
   "codemirror_mode": {
    "name": "ipython",
    "version": 3
   },
   "file_extension": ".py",
   "mimetype": "text/x-python",
   "name": "python",
   "nbconvert_exporter": "python",
   "pygments_lexer": "ipython3",
   "version": "3.6.0"
  }
 },
 "nbformat": 4,
 "nbformat_minor": 1
}
