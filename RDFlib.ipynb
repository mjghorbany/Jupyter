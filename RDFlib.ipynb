{
 "cells": [
  {
   "cell_type": "code",
   "execution_count": 1,
   "metadata": {},
   "outputs": [
    {
     "name": "stdout",
     "output_type": "stream",
     "text": [
      "4.2.2\n"
     ]
    },
    {
     "data": {
      "text/plain": [
       "<Graph identifier=Ncbf07fe6d3454a288290d6e00c16c7d0 (<class 'rdflib.graph.Graph'>)>"
      ]
     },
     "execution_count": 1,
     "metadata": {},
     "output_type": "execute_result"
    }
   ],
   "source": [
    "import rdflib\n",
    "print(rdflib.__version__)\n",
    "from rdflib import Graph,URIRef\n",
    "g=Graph()\n",
    "g.parse(\"http://dbpedia.org/resource/Elvis_Presley\")"
   ]
  },
  {
   "cell_type": "code",
   "execution_count": 2,
   "metadata": {},
   "outputs": [
    {
     "name": "stdout",
     "output_type": "stream",
     "text": [
      "(rdflib.term.URIRef('http://dbpedia.org/resource/Elvis_Presley'), rdflib.term.Literal('1935-01-08', datatype=rdflib.term.URIRef('http://www.w3.org/2001/XMLSchema#date')))\n"
     ]
    }
   ],
   "source": [
    "len(g)\n",
    "for stmt in g.subject_objects(URIRef(\"http://dbpedia.org/ontology/birthDate\")):\n",
    "     print(stmt)"
   ]
  },
  {
   "cell_type": "code",
   "execution_count": 13,
   "metadata": {},
   "outputs": [
    {
     "name": "stdout",
     "output_type": "stream",
     "text": [
      "the person represented by http://dbpedia.org/resource/Elvis_Presley was born on 1935-01-08\n"
     ]
    }
   ],
   "source": [
    "for stmt in g.subject_objects(URIRef(\"http://dbpedia.org/ontology/birthDate\")):\n",
    "    print(\"the person represented by\", str(stmt[0]), \"was born on\", str(stmt[1]))"
   ]
  },
  {
   "cell_type": "code",
   "execution_count": 14,
   "metadata": {},
   "outputs": [
    {
     "name": "stdout",
     "output_type": "stream",
     "text": [
      "the person represented by http://dbpedia.org/resource/Priscilla_Presley was married to http://dbpedia.org/resource/Elvis_Presley\n",
      "the person represented by http://dbpedia.org/resource/Elvis_Presley was married to http://dbpedia.org/resource/Priscilla_Presley\n"
     ]
    }
   ],
   "source": [
    "for stmt in g.subject_objects(URIRef(\"http://dbpedia.org/ontology/spouse\")):\n",
    "    print(\"the person represented by\", str(stmt[0]), \"was married to\", str(stmt[1]))"
   ]
  },
  {
   "cell_type": "code",
   "execution_count": 15,
   "metadata": {},
   "outputs": [
    {
     "name": "stdout",
     "output_type": "stream",
     "text": [
      "Asturias\n",
      "منطقة أستورياس\n",
      "Asturien\n",
      "Asturias\n",
      "Asturies\n",
      "Asturie\n",
      "アストゥリアス州\n",
      "Asturië (regio)\n",
      "Asturia\n",
      "Astúrias\n",
      "Астурия\n",
      "阿斯图里亚斯\n"
     ]
    }
   ],
   "source": [
    "import SPARQLWrapper\n",
    "from SPARQLWrapper import SPARQLWrapper, JSON\n",
    "\n",
    "sparql = SPARQLWrapper(\"http://dbpedia.org/sparql\")\n",
    "sparql.setQuery(\"\"\"\n",
    "    PREFIX rdfs: <http://www.w3.org/2000/01/rdf-schema#>\n",
    "    SELECT ?label\n",
    "    WHERE { \n",
    "      <http://dbpedia.org/resource/Asturias> rdfs:label ?label .\n",
    "    }\n",
    "\"\"\")\n",
    "sparql.setReturnFormat(JSON)\n",
    "results = sparql.query().convert()\n",
    "\n",
    "for result in results[\"results\"][\"bindings\"]:\n",
    "    print(result[\"label\"][\"value\"])"
   ]
  },
  {
   "cell_type": "code",
   "execution_count": 16,
   "metadata": {
    "collapsed": true
   },
   "outputs": [],
   "source": [
    "import rdflib\n",
    "# Now we create a graph, a representaiton of the ontology\n",
    "g1 = rdflib.Graph()\n",
    "\n",
    "# Now define the key words that we will use (the edge weights of the graph)\n",
    "has_border_with = rdflib.URIRef('http://www.example.org/has_border_with')\n",
    "located_in = rdflib.URIRef('http://www.example.org/located_in')\n",
    "\n",
    "# define the things - base level objects that will be the nodes\n",
    "# In this case first we have countries\n",
    "germany = rdflib.URIRef('http://www.example.org/country1')\n",
    "france = rdflib.URIRef('http://www.example.org/country2')\n",
    "china = rdflib.URIRef('http://www.example.org/country3')\n",
    "mongolia = rdflib.URIRef('http://www.example.org/country4')\n",
    "\n",
    "# then we have continents\n",
    "europa = rdflib.URIRef('http://www.example.org/part1')\n",
    "asia = rdflib.URIRef('http://www.example.org/part2')\n",
    "\n",
    "# Having defined the things and the edge weights, now assemble the graph\n",
    "g1.add((germany,has_border_with,france))\n",
    "g1.add((china,has_border_with,mongolia))\n",
    "g1.add((germany,located_in,europa))\n",
    "g1.add((france,located_in,europa))\n",
    "g1.add((china,located_in,asia))\n",
    "g1.add((mongolia,located_in,asia))\n"
   ]
  },
  {
   "cell_type": "code",
   "execution_count": 17,
   "metadata": {},
   "outputs": [],
   "source": [
    "# Now we create a graph, a representaiton of the ontology\n",
    "g_tab = rdflib.Graph()\n",
    "\n",
    "# Now define the key words that we will use (the edge weights of the graph)\n",
    "has_age = rdflib.URIRef('http://www.example.org/has_age')\n",
    "has_height = rdflib.URIRef('http://www.example.org/has_height')\n",
    "born_in = rdflib.URIRef('http://www.example.org/born_in')\n",
    "\n",
    "# define the things - base level objects that will be the nodes\n",
    "US = rdflib.URIRef('http://www.example.org/city1')\n",
    "IR = rdflib.URIRef('http://www.example.org/city2')\n",
    "CA = rdflib.URIRef('http://www.example.org/city3')\n",
    "\n",
    "# then we have persons\n",
    "Jeff = rdflib.URIRef('http://www.example.org/person1')\n",
    "Joe = rdflib.URIRef('http://www.example.org/person2')\n",
    "Sam = rdflib.URIRef('http://www.example.org/person3')\n",
    "\n",
    "# Having defined the things and the edge weights, now assemble the graph\n",
    "g_tab.add((Jeff,born_in,US))\n",
    "g_tab.add((Joe,born_in,IR))\n",
    "g_tab.add((Sam,born_in,CA))\n"
   ]
  },
  {
   "cell_type": "code",
   "execution_count": 22,
   "metadata": {},
   "outputs": [
    {
     "name": "stdout",
     "output_type": "stream",
     "text": [
      "(rdflib.term.URIRef('http://www.example.org/person1'), rdflib.term.URIRef('http://www.example.org/born_in'), rdflib.term.URIRef('http://www.example.org/city1')) \n",
      "\n",
      "(rdflib.term.URIRef('http://www.example.org/person3'), rdflib.term.URIRef('http://www.example.org/born_in'), rdflib.term.URIRef('http://www.example.org/city3')) \n",
      "\n",
      "(rdflib.term.URIRef('http://www.example.org/person2'), rdflib.term.URIRef('http://www.example.org/born_in'), rdflib.term.URIRef('http://www.example.org/city2')) \n",
      "\n"
     ]
    }
   ],
   "source": [
    "for stmt in g_tab:\n",
    "     print(stmt,'\\n')"
   ]
  },
  {
   "cell_type": "code",
   "execution_count": null,
   "metadata": {
    "collapsed": true
   },
   "outputs": [],
   "source": []
  }
 ],
 "metadata": {
  "kernelspec": {
   "display_name": "Python 3",
   "language": "python",
   "name": "python3"
  },
  "language_info": {
   "codemirror_mode": {
    "name": "ipython",
    "version": 3
   },
   "file_extension": ".py",
   "mimetype": "text/x-python",
   "name": "python",
   "nbconvert_exporter": "python",
   "pygments_lexer": "ipython3",
   "version": "3.6.0"
  }
 },
 "nbformat": 4,
 "nbformat_minor": 2
}
